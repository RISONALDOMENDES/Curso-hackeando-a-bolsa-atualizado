{
 "cells": [
  {
   "cell_type": "markdown",
   "metadata": {},
   "source": [
    "### Projeto 3: operando no metatrader e comprando as acoes indicadas pelo modelo"
   ]
  },
  {
   "cell_type": "markdown",
   "metadata": {},
   "source": [
    "passo 1 -  rodar aula anterior"
   ]
  },
  {
   "cell_type": "code",
   "execution_count": 2,
   "metadata": {},
   "outputs": [],
   "source": [
    "import pandas as pd\n",
    "import numpy as np\n",
    "from selenium import webdriver\n",
    "from selenium.webdriver.chrome.service import Service\n",
    "from webdriver_manager.chrome import ChromeDriverManager\n",
    "import time\n"
   ]
  },
  {
   "cell_type": "code",
   "execution_count": 11,
   "metadata": {},
   "outputs": [
    {
     "name": "stderr",
     "output_type": "stream",
     "text": [
      "C:\\Users\\Risonaldo\\AppData\\Local\\Temp\\ipykernel_5668\\2437173279.py:10: FutureWarning: Passing literal html to 'read_html' is deprecated and will be removed in a future version. To read from a literal string, wrap it in a 'StringIO' object.\n",
      "  tabela = pd.read_html(str(html_tabela), thousands=\".\")[0]\n"
     ]
    }
   ],
   "source": [
    "driver = webdriver.Chrome(service = Service(ChromeDriverManager().install()))\n",
    "time.sleep(3)\n",
    "\n",
    "url = \"https://www.fundamentus.com.br/resultado.php\"\n",
    "driver.get(url)\n",
    "\n",
    "local_tabela = \"/html/body/div[1]/div[2]/table\"\n",
    "elemento = driver.find_element(\"xpath\", local_tabela)\n",
    "html_tabela = elemento.get_attribute('outerHTML')\n",
    "tabela = pd.read_html(str(html_tabela), thousands=\".\")[0]\n",
    "\n",
    "tabela = tabela.set_index(\"Papel\")\n",
    "for col in tabela.columns:\n",
    "    \n",
    "    tabela[col] = tabela[col].str.replace(\"%\", \"\")\n",
    "    tabela[col] = tabela[col].str.replace(\".\", \"\")\n",
    "    tabela[col] = tabela[col].str.replace(\",\", \".\")\n",
    "    tabela[col] = tabela[col].astype(float)\n",
    "\n",
    "tabela = tabela[[\"Cotação\", \"EV/EBIT\", \"ROIC\", \"Liq.2meses\"]]\n",
    "tabela = tabela[tabela[\"Liq.2meses\"] > 1000000]\n",
    "tabela = tabela[tabela[\"EV/EBIT\"] > 0]\n",
    "tabela = tabela[tabela[\"ROIC\"] > 0]\n",
    "\n",
    "tabela[\"ranking_ev_ebit\"] = tabela[\"EV/EBIT\"].rank(ascending= True)\n",
    "tabela[\"ranking_roic\"] = tabela[\"ROIC\"].rank(ascending= False)\n",
    "tabela[\"ranking_final\"] = tabela[\"ranking_ev_ebit\"] + tabela[\"ranking_roic\"]\n",
    "tabela = tabela.sort_values(\"ranking_final\")\n",
    "\n",
    "driver.quit()\n"
   ]
  },
  {
   "cell_type": "code",
   "execution_count": 12,
   "metadata": {},
   "outputs": [
    {
     "data": {
      "text/plain": [
       "Index(['PSSA3', 'PLPL3', 'WIZC3', 'CMIN3', 'PETR4', 'PETR3', 'VLID3', 'VALE3',\n",
       "       'LREN3', 'LEVE3'],\n",
       "      dtype='object', name='Papel')"
      ]
     },
     "execution_count": 12,
     "metadata": {},
     "output_type": "execute_result"
    }
   ],
   "source": [
    "tabela = tabela.head(10)\n",
    "\n",
    "tickers = tabela.index\n",
    "\n",
    "tickers"
   ]
  },
  {
   "cell_type": "markdown",
   "metadata": {},
   "source": [
    "passo 2 - comfigurar o MT5"
   ]
  },
  {
   "cell_type": "markdown",
   "metadata": {},
   "source": [
    "passo 3 - importar a biblioteca MT5"
   ]
  },
  {
   "cell_type": "code",
   "execution_count": 10,
   "metadata": {},
   "outputs": [
    {
     "name": "stderr",
     "output_type": "stream",
     "text": [
      "\n",
      "[notice] A new release of pip is available: 24.0 -> 24.1.1\n",
      "[notice] To update, run: python.exe -m pip install --upgrade pip\n"
     ]
    },
    {
     "name": "stdout",
     "output_type": "stream",
     "text": [
      "Requirement already satisfied: metatrader5 in c:\\users\\risonaldo\\appdata\\local\\programs\\python\\python312\\lib\\site-packages (5.0.4200)\n",
      "Requirement already satisfied: numpy>=1.7 in c:\\users\\risonaldo\\appdata\\local\\programs\\python\\python312\\lib\\site-packages (from metatrader5) (1.26.3)\n",
      "Requirement already satisfied: metatrader5 in c:\\users\\risonaldo\\appdata\\local\\programs\\python\\python312\\lib\\site-packages (5.0.4200)\n",
      "Requirement already satisfied: numpy>=1.7 in c:\\users\\risonaldo\\appdata\\local\\programs\\python\\python312\\lib\\site-packages (from metatrader5) (1.26.3)\n"
     ]
    },
    {
     "name": "stderr",
     "output_type": "stream",
     "text": [
      "\n",
      "[notice] A new release of pip is available: 24.0 -> 24.1.1\n",
      "[notice] To update, run: python.exe -m pip install --upgrade pip\n"
     ]
    }
   ],
   "source": [
    "# ! pip install metatrader5\n"
   ]
  },
  {
   "cell_type": "code",
   "execution_count": 13,
   "metadata": {},
   "outputs": [],
   "source": [
    "import MetaTrader5 as mt5"
   ]
  },
  {
   "cell_type": "markdown",
   "metadata": {},
   "source": [
    "passo 4 - inicializar o MT5"
   ]
  },
  {
   "cell_type": "code",
   "execution_count": 14,
   "metadata": {},
   "outputs": [
    {
     "data": {
      "text/plain": [
       "True"
      ]
     },
     "execution_count": 14,
     "metadata": {},
     "output_type": "execute_result"
    }
   ],
   "source": [
    "mt5.initialize()"
   ]
  },
  {
   "cell_type": "markdown",
   "metadata": {},
   "source": [
    "passo 5 -configurar o dicionario de ordem e compra de ações"
   ]
  },
  {
   "cell_type": "markdown",
   "metadata": {},
   "source": [
    "passo 6 \n",
    "\n",
    "http://www.mql5.com/en/docs/python_metatrader5"
   ]
  },
  {
   "cell_type": "markdown",
   "metadata": {},
   "source": [
    "tem que ir na documentação do meta trade e buscar o codigo"
   ]
  },
  {
   "cell_type": "code",
   "execution_count": 16,
   "metadata": {},
   "outputs": [
    {
     "name": "stdout",
     "output_type": "stream",
     "text": [
      "PSSA3\n"
     ]
    },
    {
     "ename": "AttributeError",
     "evalue": "'NoneType' object has no attribute 'point'",
     "output_type": "error",
     "traceback": [
      "\u001b[1;31m---------------------------------------------------------------------------\u001b[0m",
      "\u001b[1;31mAttributeError\u001b[0m                            Traceback (most recent call last)",
      "Cell \u001b[1;32mIn[16], line 7\u001b[0m\n\u001b[0;32m      5\u001b[0m info_acoes \u001b[38;5;241m=\u001b[39m mt5\u001b[38;5;241m.\u001b[39msymbol_info(ticker)\n\u001b[0;32m      6\u001b[0m mt5\u001b[38;5;241m.\u001b[39msymbol_select(ticker)\n\u001b[1;32m----> 7\u001b[0m tick_min \u001b[38;5;241m=\u001b[39m \u001b[43mmt5\u001b[49m\u001b[38;5;241;43m.\u001b[39;49m\u001b[43msymbol_info\u001b[49m\u001b[43m(\u001b[49m\u001b[43mticker\u001b[49m\u001b[43m)\u001b[49m\u001b[38;5;241;43m.\u001b[39;49m\u001b[43mpoint\u001b[49m\n\u001b[0;32m      8\u001b[0m preco \u001b[38;5;241m=\u001b[39m mt5\u001b[38;5;241m.\u001b[39msymbol_info_tick(ticker)\u001b[38;5;241m.\u001b[39mask\n\u001b[0;32m      9\u001b[0m quantidade \u001b[38;5;241m=\u001b[39m \u001b[38;5;241m100.0\u001b[39m\n",
      "\u001b[1;31mAttributeError\u001b[0m: 'NoneType' object has no attribute 'point'"
     ]
    }
   ],
   "source": [
    "for ticker in tickers:\n",
    "\n",
    "    print(ticker)\n",
    "\n",
    "    info_acoes = mt5.symbol_info(ticker)\n",
    "    mt5.symbol_select(ticker)\n",
    "    tick_min = mt5.symbol_info(ticker).point\n",
    "    preco = mt5.symbol_info_tick(ticker).ask\n",
    "    quantidade = 100.0\n",
    "    ordem_compra = {\n",
    "        \"action\": mt5.TRADE_ACTION_DEAL,\n",
    "        \"symbol\": ticker,\n",
    "        \"volume\": quantidade,\n",
    "        \"type\": mt5.ORDER_TYPE_BUY,\n",
    "        \"price\": preco,\n",
    "        \"magic\": 1,\n",
    "        \"comment\": \"Trades automáticos\",\n",
    "        \"type_time\": mt5.ORDER_TIME_DAY,\n",
    "        \"type_filling\": mt5.ORDER_FILLING_RETURN,\n",
    "    }\n",
    "    result_compra = mt5.order_send(ordem_compra)"
   ]
  }
 ],
 "metadata": {
  "kernelspec": {
   "display_name": "Python 3",
   "language": "python",
   "name": "python3"
  },
  "language_info": {
   "codemirror_mode": {
    "name": "ipython",
    "version": 3
   },
   "file_extension": ".py",
   "mimetype": "text/x-python",
   "name": "python",
   "nbconvert_exporter": "python",
   "pygments_lexer": "ipython3",
   "version": "3.12.1"
  }
 },
 "nbformat": 4,
 "nbformat_minor": 2
}
