{
 "cells": [
  {
   "cell_type": "markdown",
   "metadata": {},
   "source": [
    "utilizando dados para operar na bolsa"
   ]
  },
  {
   "cell_type": "markdown",
   "metadata": {},
   "source": [
    "(ideia: utilizar candles elefantes (de baixa, quanto de alta) seguida de reversão, somado com volume de operações. mais ou menos isso.)"
   ]
  },
  {
   "cell_type": "markdown",
   "metadata": {},
   "source": [
    "1º passo- importar bibliotecas"
   ]
  },
  {
   "cell_type": "code",
   "execution_count": null,
   "metadata": {},
   "outputs": [],
   "source": []
  }
 ],
 "metadata": {
  "language_info": {
   "name": "python"
  }
 },
 "nbformat": 4,
 "nbformat_minor": 2
}
