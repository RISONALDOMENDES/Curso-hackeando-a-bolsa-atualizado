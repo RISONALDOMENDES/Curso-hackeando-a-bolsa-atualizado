{
 "cells": [
  {
   "cell_type": "markdown",
   "metadata": {},
   "source": [
    "### analise fundamentalista"
   ]
  },
  {
   "cell_type": "markdown",
   "metadata": {},
   "source": [
    "1 - carrega pacotes"
   ]
  },
  {
   "cell_type": "code",
   "execution_count": 4,
   "metadata": {},
   "outputs": [],
   "source": [
    "# importando as biobliotecas\n",
    "\n",
    "import wget # download de sites\n",
    "import pandas as pd # manipula dados e dataframes\n",
    "from zipfile import ZipFile #extrai dadps zipados\n",
    "from plotnine import * # grafico"
   ]
  },
  {
   "cell_type": "markdown",
   "metadata": {},
   "source": [
    "2 cria funcao para coletar demosnstrativos da cvm"
   ]
  },
  {
   "cell_type": "code",
   "execution_count": null,
   "metadata": {},
   "outputs": [],
   "source": [
    "def download_extract_concatenate_dfp_files(start_year, finacial_staments):\n",
    "    \"\"\"_summary_\n",
    "\n",
    "    Args:\n",
    "        start_year (_type_): _description_\n",
    "        finacial_staments (_type_): _description_\n",
    "    \"\"\""
   ]
  }
 ],
 "metadata": {
  "kernelspec": {
   "display_name": "Python 3",
   "language": "python",
   "name": "python3"
  },
  "language_info": {
   "codemirror_mode": {
    "name": "ipython",
    "version": 3
   },
   "file_extension": ".py",
   "mimetype": "text/x-python",
   "name": "python",
   "nbconvert_exporter": "python",
   "pygments_lexer": "ipython3",
   "version": "3.12.1"
  }
 },
 "nbformat": 4,
 "nbformat_minor": 2
}
